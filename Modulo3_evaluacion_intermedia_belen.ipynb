{
 "cells": [
  {
   "cell_type": "code",
   "execution_count": null,
   "metadata": {},
   "outputs": [],
   "source": [
    "import pandas as pd\n",
    "import numpy as np"
   ]
  },
  {
   "cell_type": "markdown",
   "metadata": {},
   "source": [
    "2.\n",
    "Exploración del conjunto de datos:\n",
    "Carga el fichero, al cargarlo te aparecerá una columna llamada \"Unnamed: 0\". Carga el dataset sin que aparezca esta columna. Además realiza un análisis exploratorio que incluya:\n",
    "Cuando leas el fichero, veras que no podemos ver todas las columnas, utiliza el comando correcto para poder visualizarlas todas cuando hacemos un head\n",
    "Primeras 5 filas del dataframe\n",
    "Últimas 5 filas del dataframe\n",
    "10 filas aleatorias del dataframe\n",
    "¿Cuántas filas y columnas tenemos en el dataframe\n",
    "¿Cuáles son los tipos de los datos de cada columna del dataframe\n",
    "¿Cuántos valores nulos tenemos por columna?\n",
    "¿Tenemos filas duplicadas en el dataframe ?\n",
    "Muestra los principales estadísticos para las columnas numéricas del dataframe\n",
    "Muestra los principales estadísticos para las columnas categóricas del dataframe"
   ]
  },
  {
   "cell_type": "code",
   "execution_count": null,
   "metadata": {},
   "outputs": [],
   "source": [
    "pd.set_option('display.max_columns', None) # para poder visualizar todas las columnas de los DataFrames\n",
    "df= pd.read_csv('Spotify_Youtube.csv',index_col=0)\n",
    "pd.set_option('display.float_format', '{:.2f}'.format)\n"
   ]
  },
  {
   "cell_type": "code",
   "execution_count": null,
   "metadata": {},
   "outputs": [],
   "source": [
    "#Mostrar las 5 primeras\n",
    "df.head()"
   ]
  },
  {
   "cell_type": "code",
   "execution_count": null,
   "metadata": {},
   "outputs": [],
   "source": [
    "#Mostrar las 5 ultimas\n",
    "df.tail()"
   ]
  },
  {
   "cell_type": "code",
   "execution_count": null,
   "metadata": {},
   "outputs": [],
   "source": [
    "#10 filas aleatorias del dataframe\n",
    "df.sample(10)"
   ]
  },
  {
   "cell_type": "code",
   "execution_count": null,
   "metadata": {},
   "outputs": [],
   "source": [
    "#¿Cuántas filas y columnas tenemos en el dataframe\n",
    "df.shape()"
   ]
  },
  {
   "cell_type": "code",
   "execution_count": 137,
   "metadata": {},
   "outputs": [
    {
     "name": "stdout",
     "output_type": "stream",
     "text": [
      "<class 'pandas.core.frame.DataFrame'>\n",
      "Index: 20718 entries, 0 to 20717\n",
      "Data columns (total 27 columns):\n",
      " #   Column            Non-Null Count  Dtype  \n",
      "---  ------            --------------  -----  \n",
      " 0   artist            20718 non-null  object \n",
      " 1   url_spotify       20718 non-null  object \n",
      " 2   track             20718 non-null  object \n",
      " 3   album             20718 non-null  object \n",
      " 4   album_type        20718 non-null  object \n",
      " 5   uri               20718 non-null  object \n",
      " 6   danceability      20716 non-null  float64\n",
      " 7   energy            20716 non-null  float64\n",
      " 8   key               20716 non-null  float64\n",
      " 9   loudness          20716 non-null  float64\n",
      " 10  speechiness       20716 non-null  float64\n",
      " 11  acousticness      20716 non-null  float64\n",
      " 12  instrumentalness  20716 non-null  float64\n",
      " 13  liveness          20716 non-null  float64\n",
      " 14  valence           20716 non-null  float64\n",
      " 15  tempo             20716 non-null  float64\n",
      " 16  duration_ms       20716 non-null  float64\n",
      " 17  url_youtube       20248 non-null  object \n",
      " 18  title             20248 non-null  object \n",
      " 19  channel           20248 non-null  object \n",
      " 20  views             20248 non-null  float64\n",
      " 21  likes             20177 non-null  float64\n",
      " 22  comments          20149 non-null  float64\n",
      " 23  description       19842 non-null  object \n",
      " 24  licensed          20248 non-null  object \n",
      " 25  official_video    20248 non-null  object \n",
      " 26  stream            20142 non-null  float64\n",
      "dtypes: float64(15), object(12)\n",
      "memory usage: 4.9+ MB\n"
     ]
    }
   ],
   "source": [
    "df.info()"
   ]
  },
  {
   "cell_type": "code",
   "execution_count": 139,
   "metadata": {},
   "outputs": [
    {
     "data": {
      "text/plain": [
       "artist               object\n",
       "url_spotify          object\n",
       "track                object\n",
       "album                object\n",
       "album_type           object\n",
       "uri                  object\n",
       "danceability        float64\n",
       "energy              float64\n",
       "key                 float64\n",
       "loudness            float64\n",
       "speechiness         float64\n",
       "acousticness        float64\n",
       "instrumentalness    float64\n",
       "liveness            float64\n",
       "valence             float64\n",
       "tempo               float64\n",
       "duration_ms         float64\n",
       "url_youtube          object\n",
       "title                object\n",
       "channel              object\n",
       "views               float64\n",
       "likes               float64\n",
       "comments            float64\n",
       "description          object\n",
       "licensed             object\n",
       "official_video       object\n",
       "stream              float64\n",
       "dtype: object"
      ]
     },
     "execution_count": 139,
     "metadata": {},
     "output_type": "execute_result"
    }
   ],
   "source": [
    "#¿Cuáles son los tipos de los datos de cada columna del dataframe\n",
    "df.dtypes"
   ]
  },
  {
   "cell_type": "code",
   "execution_count": 142,
   "metadata": {},
   "outputs": [
    {
     "name": "stdout",
     "output_type": "stream",
     "text": [
      "artist              0.000000\n",
      "url_spotify         0.000000\n",
      "track               0.000000\n",
      "album               0.000000\n",
      "album_type          0.000000\n",
      "uri                 0.000000\n",
      "danceability        0.009653\n",
      "energy              0.009653\n",
      "key                 0.009653\n",
      "loudness            0.009653\n",
      "speechiness         0.009653\n",
      "acousticness        0.009653\n",
      "instrumentalness    0.009653\n",
      "liveness            0.009653\n",
      "valence             0.009653\n",
      "tempo               0.009653\n",
      "duration_ms         0.009653\n",
      "url_youtube         2.268559\n",
      "title               2.268559\n",
      "channel             2.268559\n",
      "views               2.268559\n",
      "likes               2.611256\n",
      "comments            2.746404\n",
      "description         4.228207\n",
      "licensed            2.268559\n",
      "official_video      2.268559\n",
      "stream              2.780191\n",
      "dtype: float64\n"
     ]
    }
   ],
   "source": [
    "#¿Cuántos valores nulos tenemos por columna?\n",
    "nulos = (df.isnull().sum()/df.shape[0]) * 100\n",
    "print(nulos)"
   ]
  },
  {
   "cell_type": "code",
   "execution_count": 144,
   "metadata": {},
   "outputs": [
    {
     "data": {
      "text/plain": [
       "Index(['artist', 'url_spotify', 'track', 'album', 'album_type', 'uri',\n",
       "       'danceability', 'energy', 'key', 'loudness', 'speechiness',\n",
       "       'acousticness', 'instrumentalness', 'liveness', 'valence', 'tempo',\n",
       "       'duration_ms', 'url_youtube', 'title', 'channel', 'views', 'likes',\n",
       "       'comments', 'description', 'licensed', 'official_video', 'stream'],\n",
       "      dtype='object')"
      ]
     },
     "execution_count": 144,
     "metadata": {},
     "output_type": "execute_result"
    }
   ],
   "source": [
    "df.columns"
   ]
  },
  {
   "cell_type": "code",
   "execution_count": 147,
   "metadata": {},
   "outputs": [
    {
     "data": {
      "text/plain": [
       "array(['Wisin & Yandel', 'Hans Zimmer', 'Bob Marley & The Wailers',\n",
       "       'Alejandro Fernández', 'Johann Sebastian Bach', 'Alka Yagnik',\n",
       "       'Vishal-Shekhar', 'Bibi und Tina', 'Bibi Blocksberg',\n",
       "       'Wolfgang Amadeus Mozart', 'S. P. Balasubrahmanyam', 'Anahí',\n",
       "       'Shankar Mahadevan', 'Kumar Sanu', 'London Symphony Orchestra',\n",
       "       'Shekhar Ravjiani', 'K. S. Chithra', 'Simon & Garfunkel',\n",
       "       'Bruno & Marrone', 'Devi Sri Prasad', 'Jimi Hendrix',\n",
       "       'José Feliciano', 'Laura Pausini', 'R. D. Burman', 'Amaal Mallik',\n",
       "       'Chinmayi', 'Years & Years', 'Péricles', 'S. Janaki',\n",
       "       'K. J. Yesudas', 'Joaquín Sabina', 'Herbert von Karajan',\n",
       "       'Sukhwinder Singh', 'Yo Gotti', 'Pradeep Kumar', 'Silambarasan TR',\n",
       "       'Sujatha', 'R. Kelly', 'Patricio Rey y sus Redonditos de Ricota',\n",
       "       'Dybbukk', 'Binomio de Oro de América', 'Traditional',\n",
       "       'Daniel Hope', 'Sir Neville Marriner', 'José Luis Perales',\n",
       "       'Playero', 'José Alfredo Jimenez', 'Naresh Iyer', 'Mandy Moore',\n",
       "       'Santiago Ziesmer', \"Los Yonic's\", 'Silvio Rodríguez',\n",
       "       'Javier Solís', 'Vijay Yesudas', 'Gavin Greenaway',\n",
       "       'Laxmikant–Pyarelal', 'ARASHI', 'Salim–Sulaiman',\n",
       "       'Harish Raghavendra', 'KC & The Sunshine Band', 'John Powell',\n",
       "       'Bombay Jayashri', 'Divya Kumar', 'Mano', 'Hector & Tito',\n",
       "       'The Lyndhurst Orchestra', 'Mahalakshmi Iyer', 'M. M. Keeravani',\n",
       "       'Harini', 'Juan Luis Guerra 4.40', 'Zoé',\n",
       "       'Daryl Hall & John Oates', 'DJ Nelson', 'Tego Calderón',\n",
       "       'Brooks & Dunn', 'Vijay Prakash', 'Jeet Gannguli', 'Yoko Ono',\n",
       "       'Ajay-Atul', 'Ivy Queen', 'Ocean Sounds', 'Ocean Waves For Sleep',\n",
       "       'Milionário & José Rico', 'Yovie & Nuno', 'Zion & Lennox',\n",
       "       'Tulsi Kumar', 'Haricharan', \"Racionais MC's\", 'Meet Bros.',\n",
       "       'La Quinta Estacion', 'Héctor \"El Father\"', 'Simone & Simaria',\n",
       "       \"La K'onga\", 'Christian Chávez', 'Kany García', 'Christian Rode',\n",
       "       'JJ Lin', 'Kailash Kher', 'Kavita Seth', 'WWE', 'Maite Perroni',\n",
       "       'Shilpa Rao', 'creamy', 'Thomas Karallus', 'Palak Muchhal',\n",
       "       'M.I.A.', 'Marcela Gandara', 'D.O.E.', 'Reyli Barba', 'Jul',\n",
       "       'Shweta Mohan', 'Mc Lipi', 'Anirudh Ravichander',\n",
       "       'Banda MS de Sergio Lizárraga', 'Tainy', 'Neha Kakkar',\n",
       "       'Jesse & Joy', 'Mithoon', 'Prashant Katheriya', 'W&W', 'Código FN',\n",
       "       'Angus & Julia Stone', 'Jorge & Mateus', 'Armaan Malik',\n",
       "       'Peter Groeger', 'Tyler, The Creator', 'Tazzy',\n",
       "       'White Noise for Babies', 'Kevin Gates', 'Neeti Mohan', 'Mr.Kitty',\n",
       "       'Clayton & Romário', 'BK', 'Selena Gomez & The Scene', 'MC Hariel',\n",
       "       'Die Kita-Frösche', 'Karsten Glück', 'Alex G', 'Leo Santana',\n",
       "       'Shashaa Tirupati', 'Israel & Rodolffo', 'Sid Sriram',\n",
       "       'White Noise Baby Sleep', 'AsAP Ferg', 'Henrique & Juliano',\n",
       "       'Matheus & Kauan', 'Zé Neto & Cristiano', 'Lenin Ramírez',\n",
       "       'Nikhita Gandhi', 'Kodak Black', 'Lenny Tavárez',\n",
       "       'Maiara & Maraisa', 'Diego & Victor Hugo', 'Jubin Nautiyal',\n",
       "       'OFFICIAL HIGE DANDISM', 'Mc IG', 'Nio Garcia',\n",
       "       'Original Broadway Cast of Hamilton', 'Rashmi Virag', 'Toby Fox',\n",
       "       'Hugo & Guilherme', 'Pineapple StormTv', 'Ben&Ben', 'MC Ryan SP',\n",
       "       'Ajaxx', 'TOMORROW X TOGETHER', 'Guilherme & Benuto',\n",
       "       'Fred again..', 'Solfeggio Healing Frequencies MT'], dtype=object)"
      ]
     },
     "execution_count": 147,
     "metadata": {},
     "output_type": "execute_result"
    }
   ],
   "source": [
    "df[df['url_youtube'].isna()]['artist'].unique()"
   ]
  },
  {
   "cell_type": "code",
   "execution_count": 140,
   "metadata": {},
   "outputs": [
    {
     "name": "stdout",
     "output_type": "stream",
     "text": [
      "0\n"
     ]
    }
   ],
   "source": [
    "#¿Tenemos filas duplicadas en el dataframe ?\n",
    "duplicadas = df[df.duplicated()]\n",
    "print(len(duplicadas))"
   ]
  },
  {
   "cell_type": "code",
   "execution_count": null,
   "metadata": {},
   "outputs": [],
   "source": [
    "#Muestra los principales estadísticos para las columnas numéricas del dataframe\n",
    "numericas = df.describe().T\n",
    "numericas"
   ]
  },
  {
   "cell_type": "code",
   "execution_count": null,
   "metadata": {},
   "outputs": [],
   "source": [
    "#Muestra los principales estadísticos para las columnas categóricas del dataframe\n",
    "categoricas= df.describe(include = 'O').T\n",
    "categoricas"
   ]
  },
  {
   "cell_type": "markdown",
   "metadata": {},
   "source": [
    "3. Preparación de los datos:\n",
    "Los nombres de las columnas empiezan con mayúsculas, pon todos los nombres de las columnas en minúsculas.\n",
    "\n",
    "Haciendo el análisis exploratorio te deberías haber dado cuenta de que algunas de las variables (danceability, energy, key, loudness, speechiness, acousticness, instrumentalness) no son del tipo que deberían. Esto es debido a que los decimales están establecidos como comas y no con puntos. Crea una función que nos permita cambiar esas comas por puntos para que los datos tengan el tipo correcto.\n",
    "\n",
    "Después de haber hecho los cambios, chequea los tipos de datos. ¿Son ya del tipo correcto? En caso de que no, crea otra función o modifica la anterior para que sean de tipo float.\n",
    "\n",
    "Hay algunas canciones cuyo título está en mayúsulas. Crea una función para que todos los títulos estén en minúscula. Haz lo mismo para las columnas de \"title\" y \"album\".\n",
    "Algunos de los artistas tienen símbolos raros, en concreto el símbolo $. Crea una función que los reemplaze pos \"s\"."
   ]
  },
  {
   "cell_type": "code",
   "execution_count": null,
   "metadata": {},
   "outputs": [],
   "source": [
    "#Los nombres de las columnas empiezan con mayúsculas, pon todos los nombres de las columnas en minúsculas.\n",
    "df.columns = df.columns.str.lower()\n",
    "df.columns"
   ]
  },
  {
   "cell_type": "code",
   "execution_count": null,
   "metadata": {},
   "outputs": [],
   "source": [
    "\n",
    "\n",
    "def comas_puntos(df, columnas):\n",
    "    for x in columnas:\n",
    "        df[x] = df[x].str.replace(',', '.').astype(float)\n",
    "    return df\n",
    "\n",
    "columnas_a_corregir = ['danceability', 'energy', 'key', 'loudness', 'speechiness', 'acousticness', 'instrumentalness']\n",
    "\n",
    "# Aplicar la función\n",
    "df = comas_puntos(df, columnas_a_corregir)\n",
    "    \n"
   ]
  },
  {
   "cell_type": "code",
   "execution_count": 23,
   "metadata": {},
   "outputs": [
    {
     "name": "stdout",
     "output_type": "stream",
     "text": [
      "artist               object\n",
      "url_spotify          object\n",
      "track                object\n",
      "album                object\n",
      "album_type           object\n",
      "uri                  object\n",
      "danceability        float64\n",
      "energy              float64\n",
      "key                 float64\n",
      "loudness            float64\n",
      "speechiness         float64\n",
      "acousticness        float64\n",
      "instrumentalness    float64\n",
      "liveness            float64\n",
      "valence             float64\n",
      "tempo               float64\n",
      "duration_ms         float64\n",
      "url_youtube          object\n",
      "title                object\n",
      "channel              object\n",
      "views               float64\n",
      "likes               float64\n",
      "comments            float64\n",
      "description          object\n",
      "licensed             object\n",
      "official_video       object\n",
      "stream              float64\n",
      "dtype: object\n"
     ]
    }
   ],
   "source": [
    "#Después de haber hecho los cambios, chequea los tipos de datos. ¿Son ya del tipo correcto? En caso de que no, crea otra función o modifica la anterior para que sean de tipo float.\n",
    "print(df.dtypes)"
   ]
  },
  {
   "cell_type": "code",
   "execution_count": 24,
   "metadata": {},
   "outputs": [
    {
     "data": {
      "text/html": [
       "<div>\n",
       "<style scoped>\n",
       "    .dataframe tbody tr th:only-of-type {\n",
       "        vertical-align: middle;\n",
       "    }\n",
       "\n",
       "    .dataframe tbody tr th {\n",
       "        vertical-align: top;\n",
       "    }\n",
       "\n",
       "    .dataframe thead th {\n",
       "        text-align: right;\n",
       "    }\n",
       "</style>\n",
       "<table border=\"1\" class=\"dataframe\">\n",
       "  <thead>\n",
       "    <tr style=\"text-align: right;\">\n",
       "      <th></th>\n",
       "      <th>artist</th>\n",
       "      <th>url_spotify</th>\n",
       "      <th>track</th>\n",
       "      <th>album</th>\n",
       "      <th>album_type</th>\n",
       "      <th>uri</th>\n",
       "      <th>danceability</th>\n",
       "      <th>energy</th>\n",
       "      <th>key</th>\n",
       "      <th>loudness</th>\n",
       "      <th>speechiness</th>\n",
       "      <th>acousticness</th>\n",
       "      <th>instrumentalness</th>\n",
       "      <th>liveness</th>\n",
       "      <th>valence</th>\n",
       "      <th>tempo</th>\n",
       "      <th>duration_ms</th>\n",
       "      <th>url_youtube</th>\n",
       "      <th>title</th>\n",
       "      <th>channel</th>\n",
       "      <th>views</th>\n",
       "      <th>likes</th>\n",
       "      <th>comments</th>\n",
       "      <th>description</th>\n",
       "      <th>licensed</th>\n",
       "      <th>official_video</th>\n",
       "      <th>stream</th>\n",
       "    </tr>\n",
       "  </thead>\n",
       "  <tbody>\n",
       "    <tr>\n",
       "      <th>0</th>\n",
       "      <td>Gorillaz</td>\n",
       "      <td>https://open.spotify.com/artist/3AA28KZvwAUcZu...</td>\n",
       "      <td>Feel Good Inc.</td>\n",
       "      <td>demon days</td>\n",
       "      <td>album</td>\n",
       "      <td>spotify:track:0d28khcov6AiegSCpG5TuT</td>\n",
       "      <td>0.818</td>\n",
       "      <td>0.705</td>\n",
       "      <td>6.0</td>\n",
       "      <td>-6.679</td>\n",
       "      <td>0.1770</td>\n",
       "      <td>0.008360</td>\n",
       "      <td>0.002330</td>\n",
       "      <td>0.6130</td>\n",
       "      <td>0.772</td>\n",
       "      <td>138.559</td>\n",
       "      <td>222640.0</td>\n",
       "      <td>https://www.youtube.com/watch?v=HyHNuVaZJ-k</td>\n",
       "      <td>gorillaz - feel good inc. (official video)</td>\n",
       "      <td>Gorillaz</td>\n",
       "      <td>693555221.0</td>\n",
       "      <td>6220896.0</td>\n",
       "      <td>169907.0</td>\n",
       "      <td>Official HD Video for Gorillaz' fantastic trac...</td>\n",
       "      <td>True</td>\n",
       "      <td>True</td>\n",
       "      <td>1.040235e+09</td>\n",
       "    </tr>\n",
       "    <tr>\n",
       "      <th>1</th>\n",
       "      <td>Gorillaz</td>\n",
       "      <td>https://open.spotify.com/artist/3AA28KZvwAUcZu...</td>\n",
       "      <td>Rhinestone Eyes</td>\n",
       "      <td>plastic beach</td>\n",
       "      <td>album</td>\n",
       "      <td>spotify:track:1foMv2HQwfQ2vntFf9HFeG</td>\n",
       "      <td>0.676</td>\n",
       "      <td>0.703</td>\n",
       "      <td>8.0</td>\n",
       "      <td>-5.815</td>\n",
       "      <td>0.0302</td>\n",
       "      <td>0.086900</td>\n",
       "      <td>0.000687</td>\n",
       "      <td>0.0463</td>\n",
       "      <td>0.852</td>\n",
       "      <td>92.761</td>\n",
       "      <td>200173.0</td>\n",
       "      <td>https://www.youtube.com/watch?v=yYDmaexVHic</td>\n",
       "      <td>gorillaz - rhinestone eyes [storyboard film] (...</td>\n",
       "      <td>Gorillaz</td>\n",
       "      <td>72011645.0</td>\n",
       "      <td>1079128.0</td>\n",
       "      <td>31003.0</td>\n",
       "      <td>The official video for Gorillaz - Rhinestone E...</td>\n",
       "      <td>True</td>\n",
       "      <td>True</td>\n",
       "      <td>3.100837e+08</td>\n",
       "    </tr>\n",
       "    <tr>\n",
       "      <th>2</th>\n",
       "      <td>Gorillaz</td>\n",
       "      <td>https://open.spotify.com/artist/3AA28KZvwAUcZu...</td>\n",
       "      <td>New Gold (feat. Tame Impala and Bootie Brown)</td>\n",
       "      <td>new gold (feat. tame impala and bootie brown)</td>\n",
       "      <td>single</td>\n",
       "      <td>spotify:track:64dLd6rVqDLtkXFYrEUHIU</td>\n",
       "      <td>0.695</td>\n",
       "      <td>0.923</td>\n",
       "      <td>1.0</td>\n",
       "      <td>-3.930</td>\n",
       "      <td>0.0522</td>\n",
       "      <td>0.042500</td>\n",
       "      <td>0.046900</td>\n",
       "      <td>0.1160</td>\n",
       "      <td>0.551</td>\n",
       "      <td>108.014</td>\n",
       "      <td>215150.0</td>\n",
       "      <td>https://www.youtube.com/watch?v=qJa-VFwPpYA</td>\n",
       "      <td>gorillaz - new gold ft. tame impala &amp; bootie b...</td>\n",
       "      <td>Gorillaz</td>\n",
       "      <td>8435055.0</td>\n",
       "      <td>282142.0</td>\n",
       "      <td>7399.0</td>\n",
       "      <td>Gorillaz - New Gold ft. Tame Impala &amp; Bootie B...</td>\n",
       "      <td>True</td>\n",
       "      <td>True</td>\n",
       "      <td>6.306347e+07</td>\n",
       "    </tr>\n",
       "    <tr>\n",
       "      <th>3</th>\n",
       "      <td>Gorillaz</td>\n",
       "      <td>https://open.spotify.com/artist/3AA28KZvwAUcZu...</td>\n",
       "      <td>On Melancholy Hill</td>\n",
       "      <td>plastic beach</td>\n",
       "      <td>album</td>\n",
       "      <td>spotify:track:0q6LuUqGLUiCPP1cbdwFs3</td>\n",
       "      <td>0.689</td>\n",
       "      <td>0.739</td>\n",
       "      <td>2.0</td>\n",
       "      <td>-5.810</td>\n",
       "      <td>0.0260</td>\n",
       "      <td>0.000015</td>\n",
       "      <td>0.509000</td>\n",
       "      <td>0.0640</td>\n",
       "      <td>0.578</td>\n",
       "      <td>120.423</td>\n",
       "      <td>233867.0</td>\n",
       "      <td>https://www.youtube.com/watch?v=04mfKJWDSzI</td>\n",
       "      <td>gorillaz - on melancholy hill (official video)</td>\n",
       "      <td>Gorillaz</td>\n",
       "      <td>211754952.0</td>\n",
       "      <td>1788577.0</td>\n",
       "      <td>55229.0</td>\n",
       "      <td>Follow Gorillaz online:\\nhttp://gorillaz.com \\...</td>\n",
       "      <td>True</td>\n",
       "      <td>True</td>\n",
       "      <td>4.346636e+08</td>\n",
       "    </tr>\n",
       "    <tr>\n",
       "      <th>4</th>\n",
       "      <td>Gorillaz</td>\n",
       "      <td>https://open.spotify.com/artist/3AA28KZvwAUcZu...</td>\n",
       "      <td>Clint Eastwood</td>\n",
       "      <td>gorillaz</td>\n",
       "      <td>album</td>\n",
       "      <td>spotify:track:7yMiX7n9SBvadzox8T5jzT</td>\n",
       "      <td>0.663</td>\n",
       "      <td>0.694</td>\n",
       "      <td>10.0</td>\n",
       "      <td>-8.627</td>\n",
       "      <td>0.1710</td>\n",
       "      <td>0.025300</td>\n",
       "      <td>0.000000</td>\n",
       "      <td>0.0698</td>\n",
       "      <td>0.525</td>\n",
       "      <td>167.953</td>\n",
       "      <td>340920.0</td>\n",
       "      <td>https://www.youtube.com/watch?v=1V_xRb0x9aw</td>\n",
       "      <td>gorillaz - clint eastwood (official video)</td>\n",
       "      <td>Gorillaz</td>\n",
       "      <td>618480958.0</td>\n",
       "      <td>6197318.0</td>\n",
       "      <td>155930.0</td>\n",
       "      <td>The official music video for Gorillaz - Clint ...</td>\n",
       "      <td>True</td>\n",
       "      <td>True</td>\n",
       "      <td>6.172597e+08</td>\n",
       "    </tr>\n",
       "  </tbody>\n",
       "</table>\n",
       "</div>"
      ],
      "text/plain": [
       "     artist                                        url_spotify  \\\n",
       "0  Gorillaz  https://open.spotify.com/artist/3AA28KZvwAUcZu...   \n",
       "1  Gorillaz  https://open.spotify.com/artist/3AA28KZvwAUcZu...   \n",
       "2  Gorillaz  https://open.spotify.com/artist/3AA28KZvwAUcZu...   \n",
       "3  Gorillaz  https://open.spotify.com/artist/3AA28KZvwAUcZu...   \n",
       "4  Gorillaz  https://open.spotify.com/artist/3AA28KZvwAUcZu...   \n",
       "\n",
       "                                           track  \\\n",
       "0                                 Feel Good Inc.   \n",
       "1                                Rhinestone Eyes   \n",
       "2  New Gold (feat. Tame Impala and Bootie Brown)   \n",
       "3                             On Melancholy Hill   \n",
       "4                                 Clint Eastwood   \n",
       "\n",
       "                                           album album_type  \\\n",
       "0                                     demon days      album   \n",
       "1                                  plastic beach      album   \n",
       "2  new gold (feat. tame impala and bootie brown)     single   \n",
       "3                                  plastic beach      album   \n",
       "4                                       gorillaz      album   \n",
       "\n",
       "                                    uri  danceability  energy   key  loudness  \\\n",
       "0  spotify:track:0d28khcov6AiegSCpG5TuT         0.818   0.705   6.0    -6.679   \n",
       "1  spotify:track:1foMv2HQwfQ2vntFf9HFeG         0.676   0.703   8.0    -5.815   \n",
       "2  spotify:track:64dLd6rVqDLtkXFYrEUHIU         0.695   0.923   1.0    -3.930   \n",
       "3  spotify:track:0q6LuUqGLUiCPP1cbdwFs3         0.689   0.739   2.0    -5.810   \n",
       "4  spotify:track:7yMiX7n9SBvadzox8T5jzT         0.663   0.694  10.0    -8.627   \n",
       "\n",
       "   speechiness  acousticness  instrumentalness  liveness  valence    tempo  \\\n",
       "0       0.1770      0.008360          0.002330    0.6130    0.772  138.559   \n",
       "1       0.0302      0.086900          0.000687    0.0463    0.852   92.761   \n",
       "2       0.0522      0.042500          0.046900    0.1160    0.551  108.014   \n",
       "3       0.0260      0.000015          0.509000    0.0640    0.578  120.423   \n",
       "4       0.1710      0.025300          0.000000    0.0698    0.525  167.953   \n",
       "\n",
       "   duration_ms                                  url_youtube  \\\n",
       "0     222640.0  https://www.youtube.com/watch?v=HyHNuVaZJ-k   \n",
       "1     200173.0  https://www.youtube.com/watch?v=yYDmaexVHic   \n",
       "2     215150.0  https://www.youtube.com/watch?v=qJa-VFwPpYA   \n",
       "3     233867.0  https://www.youtube.com/watch?v=04mfKJWDSzI   \n",
       "4     340920.0  https://www.youtube.com/watch?v=1V_xRb0x9aw   \n",
       "\n",
       "                                               title   channel        views  \\\n",
       "0         gorillaz - feel good inc. (official video)  Gorillaz  693555221.0   \n",
       "1  gorillaz - rhinestone eyes [storyboard film] (...  Gorillaz   72011645.0   \n",
       "2  gorillaz - new gold ft. tame impala & bootie b...  Gorillaz    8435055.0   \n",
       "3     gorillaz - on melancholy hill (official video)  Gorillaz  211754952.0   \n",
       "4         gorillaz - clint eastwood (official video)  Gorillaz  618480958.0   \n",
       "\n",
       "       likes  comments                                        description  \\\n",
       "0  6220896.0  169907.0  Official HD Video for Gorillaz' fantastic trac...   \n",
       "1  1079128.0   31003.0  The official video for Gorillaz - Rhinestone E...   \n",
       "2   282142.0    7399.0  Gorillaz - New Gold ft. Tame Impala & Bootie B...   \n",
       "3  1788577.0   55229.0  Follow Gorillaz online:\\nhttp://gorillaz.com \\...   \n",
       "4  6197318.0  155930.0  The official music video for Gorillaz - Clint ...   \n",
       "\n",
       "  licensed official_video        stream  \n",
       "0     True           True  1.040235e+09  \n",
       "1     True           True  3.100837e+08  \n",
       "2     True           True  6.306347e+07  \n",
       "3     True           True  4.346636e+08  \n",
       "4     True           True  6.172597e+08  "
      ]
     },
     "execution_count": 24,
     "metadata": {},
     "output_type": "execute_result"
    }
   ],
   "source": [
    "#Hay algunas canciones cuyo título está en mayúsulas. Crea una función para que todos los títulos estén en minúscula. Haz lo mismo para las columnas de \"title\" y \"album\".\n",
    "def convertir_minuscula(df,columna):\n",
    "    for x in columna:\n",
    "        df[x] = df[x].str.lower()\n",
    "    return df\n",
    "\n",
    "lista_columnas=['title','album']\n",
    "df = convertir_minuscula(df,lista_columnas)\n",
    "df.head()"
   ]
  },
  {
   "cell_type": "code",
   "execution_count": 34,
   "metadata": {},
   "outputs": [
    {
     "data": {
      "text/plain": [
       "11195                JJ Lin\n",
       "1696                 Shaggy\n",
       "6152     Insane Clown Posse\n",
       "13390               TAEYEON\n",
       "4373       Alejandra Guzman\n",
       "7743           Natalie Cole\n",
       "750               Timbaland\n",
       "11618           James Blunt\n",
       "1001              Pearl Jam\n",
       "7901             Vince Gill\n",
       "Name: artist, dtype: object"
      ]
     },
     "execution_count": 34,
     "metadata": {},
     "output_type": "execute_result"
    }
   ],
   "source": [
    "#Algunos de los artistas tienen símbolos raros, en concreto el símbolo $. Crea una función que los reemplaze pos \"s\".\n",
    "df['artist']\n",
    "def cambiar_simbolo(df,columna):\n",
    "    df[columna] = df[columna].str.replace('$','s')\n",
    "    return df\n",
    "df = cambiar_simbolo(df,\"artist\")\n",
    "df['artist'].sample(10)"
   ]
  },
  {
   "cell_type": "markdown",
   "metadata": {},
   "source": [
    "4. Filtrado de datos:\n",
    "¿Cuáles son los valores únicos de la columna \"album_type\"? Crea tres dataframes diferentes, uno para cada tipo de \"album_type\". ¿Cuántas canciones tenemos en cada tipo?\n",
    "\n",
    "Usando el dataframe de los albumes que hemos creado en el ejercicio anterior. ¿Cuál es la media y la desviación estándar de \"danceability\", \"acousticness\" y \"speechiness\" de cada artista?. Muesrtra los resultados en tres dataframes diferentes, uno para cada métrica (\"danceability\", \"acousticness\" y \"speechiness\"). Ordena los resultados de mayor a menor en base a la media.\n",
    "\n",
    "Se quiere estudiar si existe una relación entre la cantidad de visitas que reciben los videos de música de un artista en una plataforma de streaming y la cantidad de likes que estos videos obtienen. Por lo tanto, querremos contestar a la siguiente pregunta: ¿Son aquellos artistas que tienen más visitas los que más likes tienen? Para solucionar este ejercicio deberéis:\n",
    "Agrupa por artista y calcular la media de visitas y de likes.\n",
    "Quedate con los 10 artistas que más visitas han tenido.\n",
    "Quedate con los 10 artistas que más likes han tenido.\n",
    "BONUS Haced lo mismo para los datos de tipo \"single\".\n",
    "Ahora queremos analizar la colaboración entre artistas en la industria musical, se tienen datos de las colaboraciones realizadas en los últimos años. Se desea conocer cuáles son los artistas que han colaborado en mayor cantidad de canciones y generar un ranking con los diez primeros. ¿Qué artistas con los que más colaboraciones tienen? Para esto tendréis que:\n",
    "Filtra los datos para quedarte solo con aquellos datos donde en la columna \"track\" tengamos \"feat\".\n",
    "Cuenta cuantas canciones tiene cada artista utilizando el dataframe generado en el paso anterior.\n",
    "Debes contestar a las siguientes preguntas:\n",
    "¿Cuáles son los diez artistas que más han colaborado según los datos que tenemos?\n",
    "¿Cuál es el número de canciones en los que ha colaborado el artista que ocupa el primer lugar en el ranking?\n",
    "¿Cuál es el artista que ocupa el décimo lugar en el ranking y en cuántas canciones ha colaborado?"
   ]
  },
  {
   "cell_type": "code",
   "execution_count": 151,
   "metadata": {},
   "outputs": [
    {
     "ename": "KeyError",
     "evalue": "'album_type]'",
     "output_type": "error",
     "traceback": [
      "\u001b[0;31m---------------------------------------------------------------------------\u001b[0m",
      "\u001b[0;31mKeyError\u001b[0m                                  Traceback (most recent call last)",
      "File \u001b[0;32m~/Library/Python/3.9/lib/python/site-packages/pandas/core/indexes/base.py:3790\u001b[0m, in \u001b[0;36mIndex.get_loc\u001b[0;34m(self, key)\u001b[0m\n\u001b[1;32m   3789\u001b[0m \u001b[39mtry\u001b[39;00m:\n\u001b[0;32m-> 3790\u001b[0m     \u001b[39mreturn\u001b[39;00m \u001b[39mself\u001b[39;49m\u001b[39m.\u001b[39;49m_engine\u001b[39m.\u001b[39;49mget_loc(casted_key)\n\u001b[1;32m   3791\u001b[0m \u001b[39mexcept\u001b[39;00m \u001b[39mKeyError\u001b[39;00m \u001b[39mas\u001b[39;00m err:\n",
      "File \u001b[0;32mindex.pyx:152\u001b[0m, in \u001b[0;36mpandas._libs.index.IndexEngine.get_loc\u001b[0;34m()\u001b[0m\n",
      "File \u001b[0;32mindex.pyx:181\u001b[0m, in \u001b[0;36mpandas._libs.index.IndexEngine.get_loc\u001b[0;34m()\u001b[0m\n",
      "File \u001b[0;32mpandas/_libs/hashtable_class_helper.pxi:7080\u001b[0m, in \u001b[0;36mpandas._libs.hashtable.PyObjectHashTable.get_item\u001b[0;34m()\u001b[0m\n",
      "File \u001b[0;32mpandas/_libs/hashtable_class_helper.pxi:7088\u001b[0m, in \u001b[0;36mpandas._libs.hashtable.PyObjectHashTable.get_item\u001b[0;34m()\u001b[0m\n",
      "\u001b[0;31mKeyError\u001b[0m: 'album_type]'",
      "\nThe above exception was the direct cause of the following exception:\n",
      "\u001b[0;31mKeyError\u001b[0m                                  Traceback (most recent call last)",
      "\u001b[1;32m/Users/belencurso/Desktop/adalab/Modulo3/Promo-F-DA-Modulo3_evaluacion_intermedia_Belen/Modulo3_evaluacion_intermedia_belen.ipynb Celda 23\u001b[0m line \u001b[0;36m8\n\u001b[1;32m      <a href='vscode-notebook-cell:/Users/belencurso/Desktop/adalab/Modulo3/Promo-F-DA-Modulo3_evaluacion_intermedia_Belen/Modulo3_evaluacion_intermedia_belen.ipynb#X26sZmlsZQ%3D%3D?line=0'>1</a>\u001b[0m \u001b[39m#¿Cuáles son los valores únicos de la columna \"album_type\"? Crea tres dataframes diferentes, uno para cada tipo de \"album_type\". ¿Cuántas canciones tenemos en cada tipo?.\u001b[39;00m\n\u001b[1;32m      <a href='vscode-notebook-cell:/Users/belencurso/Desktop/adalab/Modulo3/Promo-F-DA-Modulo3_evaluacion_intermedia_Belen/Modulo3_evaluacion_intermedia_belen.ipynb#X26sZmlsZQ%3D%3D?line=1'>2</a>\u001b[0m lista_albunes \u001b[39m=\u001b[39m df[\u001b[39m'\u001b[39m\u001b[39malbum_type\u001b[39m\u001b[39m'\u001b[39m]\u001b[39m.\u001b[39munique()\n\u001b[0;32m----> <a href='vscode-notebook-cell:/Users/belencurso/Desktop/adalab/Modulo3/Promo-F-DA-Modulo3_evaluacion_intermedia_Belen/Modulo3_evaluacion_intermedia_belen.ipynb#X26sZmlsZQ%3D%3D?line=7'>8</a>\u001b[0m df_album \u001b[39m=\u001b[39m  df[df[\u001b[39m\"\u001b[39;49m\u001b[39malbum_type]\u001b[39;49m\u001b[39m\"\u001b[39;49m]\u001b[39m==\u001b[39m\u001b[39m\"\u001b[39m\u001b[39malbum\u001b[39m\u001b[39m\"\u001b[39m]\n\u001b[1;32m      <a href='vscode-notebook-cell:/Users/belencurso/Desktop/adalab/Modulo3/Promo-F-DA-Modulo3_evaluacion_intermedia_Belen/Modulo3_evaluacion_intermedia_belen.ipynb#X26sZmlsZQ%3D%3D?line=8'>9</a>\u001b[0m df_single \u001b[39m=\u001b[39m df[df[\u001b[39m\"\u001b[39m\u001b[39malbum_type]\u001b[39m\u001b[39m\"\u001b[39m]\u001b[39m==\u001b[39m\u001b[39m\"\u001b[39m\u001b[39msingle\u001b[39m\u001b[39m\"\u001b[39m]\n\u001b[1;32m     <a href='vscode-notebook-cell:/Users/belencurso/Desktop/adalab/Modulo3/Promo-F-DA-Modulo3_evaluacion_intermedia_Belen/Modulo3_evaluacion_intermedia_belen.ipynb#X26sZmlsZQ%3D%3D?line=9'>10</a>\u001b[0m df_comp \u001b[39m=\u001b[39m   df[df[\u001b[39m\"\u001b[39m\u001b[39malbum_type]\u001b[39m\u001b[39m\"\u001b[39m]\u001b[39m==\u001b[39m\u001b[39m\"\u001b[39m\u001b[39mcompilation\u001b[39m\u001b[39m\"\u001b[39m]\n",
      "File \u001b[0;32m~/Library/Python/3.9/lib/python/site-packages/pandas/core/frame.py:3893\u001b[0m, in \u001b[0;36mDataFrame.__getitem__\u001b[0;34m(self, key)\u001b[0m\n\u001b[1;32m   3891\u001b[0m \u001b[39mif\u001b[39;00m \u001b[39mself\u001b[39m\u001b[39m.\u001b[39mcolumns\u001b[39m.\u001b[39mnlevels \u001b[39m>\u001b[39m \u001b[39m1\u001b[39m:\n\u001b[1;32m   3892\u001b[0m     \u001b[39mreturn\u001b[39;00m \u001b[39mself\u001b[39m\u001b[39m.\u001b[39m_getitem_multilevel(key)\n\u001b[0;32m-> 3893\u001b[0m indexer \u001b[39m=\u001b[39m \u001b[39mself\u001b[39;49m\u001b[39m.\u001b[39;49mcolumns\u001b[39m.\u001b[39;49mget_loc(key)\n\u001b[1;32m   3894\u001b[0m \u001b[39mif\u001b[39;00m is_integer(indexer):\n\u001b[1;32m   3895\u001b[0m     indexer \u001b[39m=\u001b[39m [indexer]\n",
      "File \u001b[0;32m~/Library/Python/3.9/lib/python/site-packages/pandas/core/indexes/base.py:3797\u001b[0m, in \u001b[0;36mIndex.get_loc\u001b[0;34m(self, key)\u001b[0m\n\u001b[1;32m   3792\u001b[0m     \u001b[39mif\u001b[39;00m \u001b[39misinstance\u001b[39m(casted_key, \u001b[39mslice\u001b[39m) \u001b[39mor\u001b[39;00m (\n\u001b[1;32m   3793\u001b[0m         \u001b[39misinstance\u001b[39m(casted_key, abc\u001b[39m.\u001b[39mIterable)\n\u001b[1;32m   3794\u001b[0m         \u001b[39mand\u001b[39;00m \u001b[39many\u001b[39m(\u001b[39misinstance\u001b[39m(x, \u001b[39mslice\u001b[39m) \u001b[39mfor\u001b[39;00m x \u001b[39min\u001b[39;00m casted_key)\n\u001b[1;32m   3795\u001b[0m     ):\n\u001b[1;32m   3796\u001b[0m         \u001b[39mraise\u001b[39;00m InvalidIndexError(key)\n\u001b[0;32m-> 3797\u001b[0m     \u001b[39mraise\u001b[39;00m \u001b[39mKeyError\u001b[39;00m(key) \u001b[39mfrom\u001b[39;00m \u001b[39merr\u001b[39;00m\n\u001b[1;32m   3798\u001b[0m \u001b[39mexcept\u001b[39;00m \u001b[39mTypeError\u001b[39;00m:\n\u001b[1;32m   3799\u001b[0m     \u001b[39m# If we have a listlike key, _check_indexing_error will raise\u001b[39;00m\n\u001b[1;32m   3800\u001b[0m     \u001b[39m#  InvalidIndexError. Otherwise we fall through and re-raise\u001b[39;00m\n\u001b[1;32m   3801\u001b[0m     \u001b[39m#  the TypeError.\u001b[39;00m\n\u001b[1;32m   3802\u001b[0m     \u001b[39mself\u001b[39m\u001b[39m.\u001b[39m_check_indexing_error(key)\n",
      "\u001b[0;31mKeyError\u001b[0m: 'album_type]'"
     ]
    }
   ],
   "source": [
    "#¿Cuáles son los valores únicos de la columna \"album_type\"? Crea tres dataframes diferentes, uno para cada tipo de \"album_type\". ¿Cuántas canciones tenemos en cada tipo?.\n",
    "lista_albunes = df['album_type'].unique()\n",
    "\n",
    "\n",
    "\n",
    "\n",
    "\n",
    "df_album =  df[df[\"album_type]\"]==\"album\"]\n",
    "df_single = df[df[\"album_type]\"]==\"single\"]\n",
    "df_comp =   df[df[\"album_type]\"]==\"compilation\"]\n",
    "\n",
    "\n"
   ]
  },
  {
   "cell_type": "markdown",
   "metadata": {},
   "source": [
    "Usando el dataframe de los albumes que hemos creado en el ejercicio anterior. \n",
    "¿Cuál es la media y la desviación estándar de \"danceability\", \"acousticness\" y \"speechiness\" de cada artista?. \n",
    "Muesrtra los resultados en tres dataframes diferentes, uno para cada métrica (\"danceability\", \"acousticness\" y \n",
    "                                                                              \"speechiness\"). \n",
    "Ordena los resultados de mayor a menor en base a la media."
   ]
  },
  {
   "cell_type": "code",
   "execution_count": 126,
   "metadata": {},
   "outputs": [
    {
     "name": "stdout",
     "output_type": "stream",
     "text": [
      "Data Frame para danceability:\n",
      "                      artist      mean       std\n",
      "1638                Saweetie  0.885800  0.050918\n",
      "2021             Young Dolph  0.862900  0.046596\n",
      "1256     Megan Thee Stallion  0.860500  0.091036\n",
      "441                     Dave  0.859100  0.096773\n",
      "1426        Ovy On The Drums  0.854600  0.038739\n",
      "...                      ...       ...       ...\n",
      "1738        Stephen Cleobury  0.142160  0.039799\n",
      "1401            Ocean Sounds  0.137980  0.063706\n",
      "1402   Ocean Waves For Sleep  0.128150  0.060672\n",
      "1981  White Noise for Babies  0.080233  0.156234\n",
      "1980  White Noise Baby Sleep  0.066270  0.071434\n",
      "\n",
      "[2079 rows x 3 columns]\n",
      "Data Frame  para acousticness:\n",
      "                   artist      mean       std\n",
      "368        Claude Debussy  0.993600  0.001350\n",
      "1576      Robert Schumann  0.992500  0.005503\n",
      "631       Frédéric Chopin  0.990200  0.003795\n",
      "529          Edvard Grieg  0.989500  0.007863\n",
      "1044            Lang Lang  0.989100  0.004677\n",
      "...                   ...       ...       ...\n",
      "2019              Youjeen  0.000334  0.000654\n",
      "1962              Volbeat  0.000220  0.000237\n",
      "1312  Motionless In White  0.000166  0.000191\n",
      "986     Killswitch Engage  0.000132  0.000158\n",
      "777             In Flames  0.000050  0.000099\n",
      "\n",
      "[2079 rows x 3 columns]\n",
      "Data Frame  para speechiness:\n",
      "                      artist     mean       std\n",
      "1701  Sir Arthur Conan Doyle  0.95230  0.008845\n",
      "196          Bibi Blocksberg  0.94530  0.011879\n",
      "1673         Sherlock Holmes  0.93930  0.015833\n",
      "1775                    TKKG  0.91930  0.023542\n",
      "637             Fünf Freunde  0.90620  0.048960\n",
      "...                      ...      ...       ...\n",
      "1208         Marcela Gandara  0.02861  0.002700\n",
      "1129          Los Temerarios  0.02841  0.005328\n",
      "839            Jeet Gannguli  0.02822  0.003086\n",
      "1106              Los Acosta  0.02764  0.002200\n",
      "364     Cigarettes After Sex  0.02741  0.002586\n",
      "\n",
      "[2079 rows x 3 columns]\n"
     ]
    }
   ],
   "source": [
    "\n",
    "\n",
    "# Lista de métricas\n",
    "lista_metricas = [\"danceability\", \"acousticness\", \"speechiness\"]\n",
    "df_danceability = pd.DataFrame()\n",
    "df_acousticness = pd.DataFrame()\n",
    "df_speechiness = pd.DataFrame()\n",
    "\n",
    "# Iterar sobre cada elemento\n",
    "for x in lista_metricas:\n",
    "    # Calcular la media y la desviación estándar para cada artista\n",
    "    estadisticas_por_artista = df.groupby('artist')[x].agg(['mean', 'std']).reset_index()\n",
    "\n",
    "    # Agregar los resultados al DataFrame correspondiente\n",
    "    if x == \"danceability\":\n",
    "        df_danceability = estadisticas_por_artista\n",
    "    elif x == \"acousticness\":\n",
    "        df_acousticness = estadisticas_por_artista\n",
    "    elif x == \"speechiness\":\n",
    "        df_speechiness = estadisticas_por_artista\n",
    "\n",
    "# Ordenar los resultados por la media de mayor a menor\n",
    "df_danceability = df_danceability.sort_values(by='mean', ascending=False)\n",
    "df_acousticness = df_acousticness.sort_values(by='mean', ascending=False)\n",
    "df_speechiness = df_speechiness.sort_values(by='mean', ascending=False)\n",
    "\n",
    "# Mostrar los resultados\n",
    "print(\"Data Frame para danceability:\")\n",
    "print(df_danceability)\n",
    "\n",
    "print(\"Data Frame  para acousticness:\")\n",
    "print(df_acousticness)\n",
    "\n",
    "print(\"Data Frame  para speechiness:\")\n",
    "print(df_speechiness)\n"
   ]
  },
  {
   "cell_type": "markdown",
   "metadata": {},
   "source": [
    "Se quiere estudiar si existe una relación entre la cantidad de visitas que reciben los videos de música de un artista en una plataforma de streaming y la cantidad de likes que estos videos obtienen. Por lo tanto, querremos contestar a la siguiente pregunta: ¿Son aquellos artistas que tienen más visitas los que más likes tienen? Para solucionar este ejercicio deberéis:"
   ]
  },
  {
   "cell_type": "code",
   "execution_count": 53,
   "metadata": {},
   "outputs": [
    {
     "name": "stdout",
     "output_type": "stream",
     "text": [
      "                 artist        views      likes\n",
      "0              (G)I-DLE  175495394.1  2446296.3\n",
      "1                *NSYNC  102783286.2   423342.3\n",
      "2             070 Shake    9609935.9   201300.5\n",
      "3                   112   21913445.9   150914.1\n",
      "4     11:11 Music Group    1267282.4    17970.1\n",
      "...                 ...          ...        ...\n",
      "2074          will.i.am  283132016.6  1386447.1\n",
      "2075     Ángela Aguilar  138529529.1  1029475.7\n",
      "2076               Ñejo   62668082.4   434891.0\n",
      "2077         Ñengo Flow   81272631.5   676034.0\n",
      "2078           Øneheart    3462331.0   127216.7\n",
      "\n",
      "[2079 rows x 3 columns]\n"
     ]
    }
   ],
   "source": [
    "#Agrupa por artista y calcular la media de visitas y de likes.\n",
    "\n",
    "media_visitas_likes = df.groupby('artist')[['views', 'likes']].mean().reset_index()\n",
    "print(media_visitas_likes)\n"
   ]
  },
  {
   "cell_type": "code",
   "execution_count": 132,
   "metadata": {},
   "outputs": [
    {
     "name": "stdout",
     "output_type": "stream",
     "text": [
      "Los 10 primeros artistas con mas visitas son :\n"
     ]
    },
    {
     "data": {
      "text/html": [
       "<div>\n",
       "<style scoped>\n",
       "    .dataframe tbody tr th:only-of-type {\n",
       "        vertical-align: middle;\n",
       "    }\n",
       "\n",
       "    .dataframe tbody tr th {\n",
       "        vertical-align: top;\n",
       "    }\n",
       "\n",
       "    .dataframe thead th {\n",
       "        text-align: right;\n",
       "    }\n",
       "</style>\n",
       "<table border=\"1\" class=\"dataframe\">\n",
       "  <thead>\n",
       "    <tr style=\"text-align: right;\">\n",
       "      <th></th>\n",
       "      <th>artist</th>\n",
       "      <th>views</th>\n",
       "    </tr>\n",
       "  </thead>\n",
       "  <tbody>\n",
       "    <tr>\n",
       "      <th>524</th>\n",
       "      <td>Ed Sheeran</td>\n",
       "      <td>1.546021e+10</td>\n",
       "    </tr>\n",
       "    <tr>\n",
       "      <th>372</th>\n",
       "      <td>CoComelon</td>\n",
       "      <td>1.460167e+10</td>\n",
       "    </tr>\n",
       "    <tr>\n",
       "      <th>953</th>\n",
       "      <td>Katy Perry</td>\n",
       "      <td>1.312063e+10</td>\n",
       "    </tr>\n",
       "    <tr>\n",
       "      <th>331</th>\n",
       "      <td>Charlie Puth</td>\n",
       "      <td>1.216759e+10</td>\n",
       "    </tr>\n",
       "    <tr>\n",
       "      <th>1147</th>\n",
       "      <td>Luis Fonsi</td>\n",
       "      <td>1.162811e+10</td>\n",
       "    </tr>\n",
       "    <tr>\n",
       "      <th>925</th>\n",
       "      <td>Justin Bieber</td>\n",
       "      <td>1.099106e+10</td>\n",
       "    </tr>\n",
       "    <tr>\n",
       "      <th>420</th>\n",
       "      <td>Daddy Yankee</td>\n",
       "      <td>1.087193e+10</td>\n",
       "    </tr>\n",
       "    <tr>\n",
       "      <th>265</th>\n",
       "      <td>Bruno Mars</td>\n",
       "      <td>1.024092e+10</td>\n",
       "    </tr>\n",
       "    <tr>\n",
       "      <th>1182</th>\n",
       "      <td>Macklemore &amp; Ryan Lewis</td>\n",
       "      <td>1.012206e+10</td>\n",
       "    </tr>\n",
       "    <tr>\n",
       "      <th>379</th>\n",
       "      <td>Coldplay</td>\n",
       "      <td>9.997278e+09</td>\n",
       "    </tr>\n",
       "  </tbody>\n",
       "</table>\n",
       "</div>"
      ],
      "text/plain": [
       "                       artist         views\n",
       "524                Ed Sheeran  1.546021e+10\n",
       "372                 CoComelon  1.460167e+10\n",
       "953                Katy Perry  1.312063e+10\n",
       "331              Charlie Puth  1.216759e+10\n",
       "1147               Luis Fonsi  1.162811e+10\n",
       "925             Justin Bieber  1.099106e+10\n",
       "420              Daddy Yankee  1.087193e+10\n",
       "265                Bruno Mars  1.024092e+10\n",
       "1182  Macklemore & Ryan Lewis  1.012206e+10\n",
       "379                  Coldplay  9.997278e+09"
      ]
     },
     "execution_count": 132,
     "metadata": {},
     "output_type": "execute_result"
    }
   ],
   "source": [
    "#Quedate con los 10 artistas que más visitas han tenido.\n",
    "\n",
    "\n",
    "artistas_mas_visitados = df.groupby('artist')['views'].sum().reset_index()\n",
    "artistas_mas_visitados  = artistas_mas_visitados .sort_values(by='views', ascending=False)\n",
    "\n",
    "print('Los 10 primeros artistas con mas visitas son :')\n",
    "artistas_mas_visitados.head(10)\n",
    "\n",
    "\n"
   ]
  },
  {
   "cell_type": "code",
   "execution_count": 133,
   "metadata": {},
   "outputs": [
    {
     "data": {
      "text/html": [
       "<div>\n",
       "<style scoped>\n",
       "    .dataframe tbody tr th:only-of-type {\n",
       "        vertical-align: middle;\n",
       "    }\n",
       "\n",
       "    .dataframe tbody tr th {\n",
       "        vertical-align: top;\n",
       "    }\n",
       "\n",
       "    .dataframe thead th {\n",
       "        text-align: right;\n",
       "    }\n",
       "</style>\n",
       "<table border=\"1\" class=\"dataframe\">\n",
       "  <thead>\n",
       "    <tr style=\"text-align: right;\">\n",
       "      <th></th>\n",
       "      <th>artist</th>\n",
       "      <th>likes</th>\n",
       "    </tr>\n",
       "  </thead>\n",
       "  <tbody>\n",
       "    <tr>\n",
       "      <th>151</th>\n",
       "      <td>BTS</td>\n",
       "      <td>139403808.0</td>\n",
       "    </tr>\n",
       "    <tr>\n",
       "      <th>149</th>\n",
       "      <td>BLACKPINK</td>\n",
       "      <td>132302505.0</td>\n",
       "    </tr>\n",
       "    <tr>\n",
       "      <th>331</th>\n",
       "      <td>Charlie Puth</td>\n",
       "      <td>86336925.0</td>\n",
       "    </tr>\n",
       "    <tr>\n",
       "      <th>524</th>\n",
       "      <td>Ed Sheeran</td>\n",
       "      <td>83543319.0</td>\n",
       "    </tr>\n",
       "    <tr>\n",
       "      <th>925</th>\n",
       "      <td>Justin Bieber</td>\n",
       "      <td>78584348.0</td>\n",
       "    </tr>\n",
       "    <tr>\n",
       "      <th>200</th>\n",
       "      <td>Billie Eilish</td>\n",
       "      <td>73338537.0</td>\n",
       "    </tr>\n",
       "    <tr>\n",
       "      <th>775</th>\n",
       "      <td>Imagine Dragons</td>\n",
       "      <td>72274477.0</td>\n",
       "    </tr>\n",
       "    <tr>\n",
       "      <th>55</th>\n",
       "      <td>Alan Walker</td>\n",
       "      <td>67977702.0</td>\n",
       "    </tr>\n",
       "    <tr>\n",
       "      <th>416</th>\n",
       "      <td>DJ Snake</td>\n",
       "      <td>67775831.0</td>\n",
       "    </tr>\n",
       "    <tr>\n",
       "      <th>1147</th>\n",
       "      <td>Luis Fonsi</td>\n",
       "      <td>66908489.0</td>\n",
       "    </tr>\n",
       "  </tbody>\n",
       "</table>\n",
       "</div>"
      ],
      "text/plain": [
       "               artist        likes\n",
       "151               BTS  139403808.0\n",
       "149         BLACKPINK  132302505.0\n",
       "331      Charlie Puth   86336925.0\n",
       "524        Ed Sheeran   83543319.0\n",
       "925     Justin Bieber   78584348.0\n",
       "200     Billie Eilish   73338537.0\n",
       "775   Imagine Dragons   72274477.0\n",
       "55        Alan Walker   67977702.0\n",
       "416          DJ Snake   67775831.0\n",
       "1147       Luis Fonsi   66908489.0"
      ]
     },
     "execution_count": 133,
     "metadata": {},
     "output_type": "execute_result"
    }
   ],
   "source": [
    "#Quedate con los 10 artistas que más likes han tenido.\n",
    "artistas_mas_likes = df.groupby('artist')['likes'].sum().reset_index()\n",
    "artistas_mas_likes  = artistas_mas_likes .sort_values(by='likes', ascending=False)\n",
    "\n",
    "artistas_mas_likes.head(10)\n"
   ]
  },
  {
   "cell_type": "code",
   "execution_count": 134,
   "metadata": {},
   "outputs": [],
   "source": [
    "#¿Son aquellos artistas que tienen más visitas los que más likes tienen?\n",
    "## `No`"
   ]
  },
  {
   "cell_type": "code",
   "execution_count": 135,
   "metadata": {},
   "outputs": [
    {
     "data": {
      "text/plain": [
       "Index(['artist', 'url_spotify', 'track', 'album', 'album_type', 'uri',\n",
       "       'danceability', 'energy', 'key', 'loudness', 'speechiness',\n",
       "       'acousticness', 'instrumentalness', 'liveness', 'valence', 'tempo',\n",
       "       'duration_ms', 'url_youtube', 'title', 'channel', 'views', 'likes',\n",
       "       'comments', 'description', 'licensed', 'official_video', 'stream'],\n",
       "      dtype='object')"
      ]
     },
     "execution_count": 135,
     "metadata": {},
     "output_type": "execute_result"
    }
   ],
   "source": [
    "df.columns"
   ]
  },
  {
   "cell_type": "code",
   "execution_count": 75,
   "metadata": {},
   "outputs": [
    {
     "name": "stdout",
     "output_type": "stream",
     "text": [
      "Top 10 artistas con más likes en singles:\n",
      "              artist album_type       likes\n",
      "279        BLACKPINK     single  82959030.0\n",
      "3636     Wiz Khalifa     single  47790517.0\n",
      "610     Charlie Puth     single  41746947.0\n",
      "1688  Jubin Nautiyal     single  39238542.0\n",
      "1989       Lil Nas X     single  39103751.0\n",
      "2246      Marshmello     single  35843277.0\n",
      "367    Billie Eilish     single  35590580.0\n",
      "385         Bizarrap     single  33922836.0\n",
      "3019    Selena Gomez     single  33409887.0\n",
      "2615           Ozuna     single  33337259.0\n"
     ]
    }
   ],
   "source": [
    "# BONUS Haced lo mismo para los datos de tipo \"single\".\n",
    "# Quedate con los 10 artistas que más likes han tenido y con album_type = 'single'\n",
    "\n",
    "artistas_mas_likes = df.groupby(['artist', 'album_type'])['likes'].sum().reset_index()\n",
    "\n",
    "# Filtro para ver los singles\n",
    "top_artistas_single = artistas_mas_likes[artistas_mas_likes['album_type'] == 'single']\n",
    "\n",
    "# Seleccionar los 10 artistas con más likes\n",
    "top_artistas_single= top_artistas_single.sort_values(by='likes', ascending=False).head(10)\n",
    "\n",
    "# Mostrar los resultados\n",
    "print(\"Top 10 artistas con más likes en singles:\")\n",
    "print(top_artistas_single)\n"
   ]
  },
  {
   "cell_type": "markdown",
   "metadata": {},
   "source": [
    "Ahora queremos analizar la colaboración entre artistas en la industria musical, se tienen datos de las colaboraciones realizadas en los últimos años. Se desea conocer cuáles son los artistas que han colaborado en mayor cantidad de canciones y generar un ranking con los diez primeros. ¿Qué artistas con los que más colaboraciones tienen? Para esto tendréis que:\n",
    "Filtra los datos para quedarte solo con aquellos datos donde en la columna \"track\" tengamos \"feat\".\n",
    "Cuenta cuantas canciones tiene cada artista utilizando el dataframe generado en el paso anterior.\n",
    "Debes contestar a las siguientes preguntas:\n",
    "¿Cuáles son los diez artistas que más han colaborado según los datos que tenemos?\n",
    "¿Cuál es el número de canciones en los que ha colaborado el artista que ocupa el primer lugar en el ranking?\n",
    "¿Cuál es el artista que ocupa el décimo lugar en el ranking y en cuántas canciones ha colaborado?"
   ]
  },
  {
   "cell_type": "code",
   "execution_count": 90,
   "metadata": {},
   "outputs": [
    {
     "name": "stdout",
     "output_type": "stream",
     "text": [
      "Numero de colaboraciones : 1756\n"
     ]
    }
   ],
   "source": [
    "datos_feat= df.groupby('track')\n",
    "datos_feat = df['track'].str.contains('feat')\n",
    "\n",
    "\n",
    "\n",
    "print(f'Numero de colaboraciones : {datos_feat.shape[0]}')\n",
    "\n",
    "\n"
   ]
  },
  {
   "cell_type": "code",
   "execution_count": 105,
   "metadata": {},
   "outputs": [
    {
     "name": "stdout",
     "output_type": "stream",
     "text": [
      "Los 10 primeros artistas con más colaboraciones:\n",
      "            artist  numero_canciones\n",
      "404     Macklemore                10\n",
      "307        Juicy J                10\n",
      "62   Bibi und Tina                10\n",
      "646  Ty Dolla sign                 9\n",
      "667   Wu-Tang Clan                 9\n",
      "138      DJ Khaled                 9\n",
      "419    Mark Ronson                 8\n",
      "658           Wale                 8\n",
      "517        Popcaan                 8\n",
      "666         Wizkid                 8\n"
     ]
    }
   ],
   "source": [
    "# Filtrar datos para quedarnos solo con colaboraciones 'feat'\n",
    "datos_feat = df[df['track'].str.contains('feat', case=False)]\n",
    "\n",
    "# Contar la cantidad de colaboraciones por cada artista\n",
    "df_colaboraciones_artista = datos_feat.groupby('artist')['track'].count().reset_index(name='numero_canciones')\n",
    "\n",
    "# Ordenar los resultados de mayor a menor\n",
    "df_colaboraciones_artista = df_colaboraciones_artista.sort_values(by='numero_canciones', ascending=False)\n",
    "\n",
    "# Mostrar los 10 primeros artistas con más colaboraciones 'feat'\n",
    "print(\"Los 10 primeros artistas con más colaboraciones:\")\n",
    "print(df_colaboraciones_artista.head(10))\n"
   ]
  },
  {
   "cell_type": "code",
   "execution_count": 124,
   "metadata": {},
   "outputs": [
    {
     "name": "stdout",
     "output_type": "stream",
     "text": [
      "El artista que  mas ha colaborado es Macklemore con un total de 10 canciones\n"
     ]
    }
   ],
   "source": [
    "#¿Cuál es el número de canciones en los que ha colaborado el artista que ocupa el primer lugar en el ranking?\n",
    "num_canciones = df_colaboraciones_artista.iloc[0,1]\n",
    "print(f'El artista que  mas ha colaborado es {df_colaboraciones_artista.iloc[0,0]} con un total de {df_colaboraciones_artista.iloc[0,1]} canciones')"
   ]
  },
  {
   "cell_type": "code",
   "execution_count": 122,
   "metadata": {},
   "outputs": [
    {
     "name": "stdout",
     "output_type": "stream",
     "text": [
      "El artista que ocupa el decimo lugar en el ranking es Ñengo Flow\n",
      "Ha colaborado en 1\n"
     ]
    }
   ],
   "source": [
    "#¿Cuál es el artista que ocupa el décimo lugar en el ranking y en cuántas canciones ha colaborado?\n",
    "print(f'El artista que ocupa el decimo lugar en el ranking es {df_colaboraciones_artista.iloc[-1,0]}')\n",
    "num_colaboraciones = df_colaboraciones_artista.iloc[-1,1]\n",
    "print(f'Ha colaborado en {num_colaboraciones}')"
   ]
  }
 ],
 "metadata": {
  "kernelspec": {
   "display_name": "Python 3",
   "language": "python",
   "name": "python3"
  },
  "language_info": {
   "codemirror_mode": {
    "name": "ipython",
    "version": 3
   },
   "file_extension": ".py",
   "mimetype": "text/x-python",
   "name": "python",
   "nbconvert_exporter": "python",
   "pygments_lexer": "ipython3",
   "version": "3.9.6"
  }
 },
 "nbformat": 4,
 "nbformat_minor": 2
}
